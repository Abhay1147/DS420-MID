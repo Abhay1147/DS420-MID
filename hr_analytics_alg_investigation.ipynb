{
 "cells": [
  {
   "cell_type": "code",
   "execution_count": 1,
   "id": "5dc6705e-3b9b-4d4d-b6f6-4b55b11638d3",
   "metadata": {},
   "outputs": [
    {
     "ename": "ModuleNotFoundError",
     "evalue": "No module named 'hr_analytics_preparation'",
     "output_type": "error",
     "traceback": [
      "\u001b[0;31m---------------------------------------------------------------------------\u001b[0m",
      "\u001b[0;31mModuleNotFoundError\u001b[0m                       Traceback (most recent call last)",
      "Cell \u001b[0;32mIn[1], line 13\u001b[0m\n\u001b[1;32m     10\u001b[0m warnings\u001b[38;5;241m.\u001b[39mfilterwarnings(\u001b[38;5;124m'\u001b[39m\u001b[38;5;124mignore\u001b[39m\u001b[38;5;124m'\u001b[39m)\n\u001b[1;32m     12\u001b[0m \u001b[38;5;66;03m# Import our preparation module\u001b[39;00m\n\u001b[0;32m---> 13\u001b[0m \u001b[38;5;28;01mfrom\u001b[39;00m\u001b[38;5;250m \u001b[39m\u001b[38;5;21;01mhr_analytics_preparation\u001b[39;00m\u001b[38;5;250m \u001b[39m\u001b[38;5;28;01mimport\u001b[39;00m prepare_data\n\u001b[1;32m     15\u001b[0m \u001b[38;5;66;03m# Load and prepare data\u001b[39;00m\n\u001b[1;32m     16\u001b[0m df \u001b[38;5;241m=\u001b[39m pd\u001b[38;5;241m.\u001b[39mread_csv(\u001b[38;5;124m'\u001b[39m\u001b[38;5;124mHR_data.csv\u001b[39m\u001b[38;5;124m'\u001b[39m)\n",
      "\u001b[0;31mModuleNotFoundError\u001b[0m: No module named 'hr_analytics_preparation'"
     ]
    }
   ],
   "source": [
    "import pandas as pd\n",
    "import numpy as np\n",
    "from sklearn.model_selection import cross_val_score, StratifiedKFold\n",
    "from sklearn.linear_model import LogisticRegression, SGDClassifier\n",
    "from sklearn.ensemble import RandomForestClassifier, GradientBoostingClassifier\n",
    "from sklearn.svm import SVC\n",
    "from sklearn.neighbors import KNeighborsClassifier\n",
    "from sklearn.metrics import accuracy_score, precision_score, recall_score, f1_score\n",
    "import warnings\n",
    "warnings.filterwarnings('ignore')\n",
    "\n",
    "# Import our preparation module\n",
    "from hr_analytics_preparation import prepare_data\n",
    "\n",
    "# Load and prepare data\n",
    "df = pd.read_csv('HR_data.csv')\n",
    "X_train, X_test, y_train, y_test, preprocessor = prepare_data(df)\n",
    "\n",
    "# Initialize algorithms to investigate\n",
    "algorithms = {\n",
    "    'Logistic Regression': LogisticRegression(random_state=42, max_iter=1000),\n",
    "    'SGD Classifier': SGDClassifier(random_state=42, max_iter=1000, tol=1e-3),\n",
    "    'Random Forest': RandomForestClassifier(random_state=42),\n",
    "    'Support Vector Machine': SVC(random_state=42),\n",
    "    'Gradient Boosting': GradientBoostingClassifier(random_state=42),\n",
    "    'K-Nearest Neighbors': KNeighborsClassifier()\n",
    "}\n",
    "\n",
    "# Evaluate each algorithm using cross-validation\n",
    "cv = StratifiedKFold(n_splits=5, shuffle=True, random_state=42)\n",
    "results = {}\n",
    "\n",
    "print(\"Investigating 6 Algorithms...\")\n",
    "print(\"=\"*50)\n",
    "\n",
    "for name, model in algorithms.items():\n",
    "    print(f\"\\nEvaluating {name}...\")\n",
    "    \n",
    "    # Cross-validation scores\n",
    "    cv_scores = cross_val_score(model, X_train, y_train, cv=cv, scoring='f1')\n",
    "    \n",
    "    # Train and evaluate on test set for additional metrics\n",
    "    model.fit(X_train, y_train)\n",
    "    y_pred = model.predict(X_test)\n",
    "    \n",
    "    results[name] = {\n",
    "        'CV F1 Mean': cv_scores.mean(),\n",
    "        'CV F1 Std': cv_scores.std(),\n",
    "        'Test Accuracy': accuracy_score(y_test, y_pred),\n",
    "        'Test Precision': precision_score(y_test, y_pred),\n",
    "        'Test Recall': recall_score(y_test, y_pred),\n",
    "        'Test F1': f1_score(y_test, y_pred)\n",
    "    }\n",
    "    \n",
    "    print(f\"CV F1: {cv_scores.mean():.4f} (+/- {cv_scores.std() * 2:.4f})\")\n",
    "    print(f\"Test F1: {results[name]['Test F1']:.4f}\")\n",
    "\n",
    "# Create results comparison\n",
    "results_df = pd.DataFrame(results).T\n",
    "results_df = results_df.sort_values('CV F1 Mean', ascending=False)\n",
    "\n",
    "print(\"\\n\" + \"=\"*50)\n",
    "print(\"ALGORITHM RANKING (by CV F1 Score):\")\n",
    "print(\"=\"*50)\n",
    "print(results_df[['CV F1 Mean', 'CV F1 Std', 'Test F1', 'Test Accuracy']])\n",
    "\n",
    "# Select top 2 algorithms\n",
    "top_2 = results_df.head(2).index.tolist()\n",
    "print(f\"\\nTop 2 algorithms selected for detailed training: {top_2}\")\n",
    "\n",
    "# Save the results\n",
    "results_df.to_csv('algorithm_investigation_results.csv')\n",
    "print(\"\\nResults saved to 'algorithm_investigation_results.csv'\")"
   ]
  },
  {
   "cell_type": "code",
   "execution_count": null,
   "id": "ad5d43a1-e8d3-4868-8517-7455e3f16be8",
   "metadata": {},
   "outputs": [],
   "source": []
  }
 ],
 "metadata": {
  "kernelspec": {
   "display_name": "Python 3 (ipykernel)",
   "language": "python",
   "name": "python3"
  },
  "language_info": {
   "codemirror_mode": {
    "name": "ipython",
    "version": 3
   },
   "file_extension": ".py",
   "mimetype": "text/x-python",
   "name": "python",
   "nbconvert_exporter": "python",
   "pygments_lexer": "ipython3",
   "version": "3.10.18"
  }
 },
 "nbformat": 4,
 "nbformat_minor": 5
}
